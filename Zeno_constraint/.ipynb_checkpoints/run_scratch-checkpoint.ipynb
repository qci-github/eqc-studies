{
 "cells": [
  {
   "cell_type": "code",
   "execution_count": 6,
   "id": "3b23fced",
   "metadata": {},
   "outputs": [],
   "source": [
    "import numpy as np\n",
    "import scipy.linalg as linalg\n",
    "import scipy.sparse as sparse\n",
    "import zeno_constraint as zc\n",
    "import importlib\n",
    "import matplotlib.pyplot as plt\n",
    "import time"
   ]
  },
  {
   "cell_type": "code",
   "execution_count": null,
   "id": "5a1cbddc",
   "metadata": {},
   "outputs": [
    {
     "name": "stdout",
     "output_type": "stream",
     "text": [
      "10\n",
      "0.10820794105529785\n",
      "100\n",
      "1.0569078922271729\n",
      "1000\n",
      "10.595017910003662\n"
     ]
    }
   ],
   "source": [
    "importlib.reload(zc)\n",
    "t_start=time.time()\n",
    "(var_lists,neg_lists)=np.load('unique_3_sat_5_1690552185.884515.npy')[()]\n",
    "H_sat_diag=zc.build_sat_Ham_three_diag(var_lists,neg_lists,5)\n",
    "num_step_list=[10,10**2,10**3,10**4,10**5,10**6,10**7]\n",
    "data_list_list=[None]*len(num_step_list)\n",
    "sat_state_P=np.diag(np.array(H_sat_diag==0,dtype=float))\n",
    "P_s=lambda s: zc.multi_qubit_measure_project_xi(s*np.pi/2,5)\n",
    "sat_state=np.zeros(3**5)\n",
    "sat_state[121]=1\n",
    "start_state=np.zeros(3**5)\n",
    "start_state[0]=1\n",
    "measure_func=lambda state_vec: [linalg.norm(state_vec)**2,abs(np.dot(sat_state,state_vec))**2,abs(np.dot(start_state,state_vec))**2]\n",
    "for i_num_step in range(len(num_step_list)):\n",
    "    num_step=num_step_list[i_num_step]\n",
    "    data_list=zc.project_sweep_fixed_matrix(P_s,sat_state_P,start_state,measure_func,num_step=num_step)\n",
    "    data_list_list[i_num_step]=data_list\n",
    "    print(num_step)\n",
    "    print(time.time()-t_start)\n",
    "    np.save('sat_measure_only.npy',{'num_step_list': num_step_list,'data_list_list':data_list_list})"
   ]
  },
  {
   "cell_type": "code",
   "execution_count": 9,
   "id": "270227ad",
   "metadata": {},
   "outputs": [
    {
     "data": {
      "text/plain": [
       "array([1.e+00, 1.e+01, 1.e+02, 1.e+03, 1.e+04, 1.e+05, 1.e+06, 1.e+07])"
      ]
     },
     "execution_count": 9,
     "metadata": {},
     "output_type": "execute_result"
    }
   ],
   "source": [
    "np.logspace(0,7,8)"
   ]
  },
  {
   "cell_type": "code",
   "execution_count": null,
   "id": "cbb0df8a",
   "metadata": {},
   "outputs": [],
   "source": []
  }
 ],
 "metadata": {
  "kernelspec": {
   "display_name": "Python3.9",
   "language": "python",
   "name": "python3.9"
  },
  "language_info": {
   "codemirror_mode": {
    "name": "ipython",
    "version": 3
   },
   "file_extension": ".py",
   "mimetype": "text/x-python",
   "name": "python",
   "nbconvert_exporter": "python",
   "pygments_lexer": "ipython3",
   "version": "3.9.16"
  }
 },
 "nbformat": 4,
 "nbformat_minor": 5
}
